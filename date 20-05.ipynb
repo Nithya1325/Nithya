{
 "cells": [
  {
   "cell_type": "code",
   "execution_count": 1,
   "id": "6dd5d886-af04-4a95-be08-5bfe31f2c553",
   "metadata": {},
   "outputs": [],
   "source": [
    "class mylist:\n",
    "    def __init__(self):\n",
    "        self.items=[]\n",
    "    def append(self, item):\n",
    "        \"\"\"method to add an item to the list\"\"\"\n",
    "        self.items.append(item)\n",
    "\n",
    "    def remove(self,item):\n",
    "        \"\"\" method to remove an item from the list\"\"\"\n",
    "        if item in self.items:\n",
    "            self.items.remove(item)\n",
    "        else:\n",
    "            print(f'{item} not found in the list')\n",
    "\n",
    "    def display(self):\n",
    "        \"\"\"method to display the current list\"\"\"\n",
    "        print(self.items)\n",
    "\n",
    "    def size(self):\n",
    "        \"\"\"method to return the size of the list\"\"\"\n",
    "        return len(self.items)\n",
    "        \n",
    "\n",
    "    "
   ]
  },
  {
   "cell_type": "code",
   "execution_count": 2,
   "id": "9888ac16-70ca-492f-be5d-85a0703eb3aa",
   "metadata": {},
   "outputs": [],
   "source": [
    "l=mylist()"
   ]
  },
  {
   "cell_type": "code",
   "execution_count": 3,
   "id": "1ab96c78-7fad-4078-9bc8-1fa21a7ccaf5",
   "metadata": {},
   "outputs": [],
   "source": [
    "l.append(1)\n",
    "l.append(2)\n",
    "l.append(3)"
   ]
  },
  {
   "cell_type": "code",
   "execution_count": 4,
   "id": "a3136e0b-cfc3-413c-a086-3980b54b6de0",
   "metadata": {},
   "outputs": [
    {
     "name": "stdout",
     "output_type": "stream",
     "text": [
      "[1, 2, 3]\n"
     ]
    }
   ],
   "source": [
    "l.display()"
   ]
  },
  {
   "cell_type": "code",
   "execution_count": 5,
   "id": "ca11e808-e0fd-44d8-81df-a300ba3df647",
   "metadata": {},
   "outputs": [],
   "source": [
    "l.remove(2)"
   ]
  },
  {
   "cell_type": "code",
   "execution_count": 6,
   "id": "e08fcd8b-f9f1-4422-a095-873b81ca8e45",
   "metadata": {},
   "outputs": [
    {
     "name": "stdout",
     "output_type": "stream",
     "text": [
      "[1, 3]\n"
     ]
    }
   ],
   "source": [
    "l.display()"
   ]
  },
  {
   "cell_type": "code",
   "execution_count": 9,
   "id": "988871bc-8cd1-4c92-822a-2809d54b76ae",
   "metadata": {},
   "outputs": [
    {
     "data": {
      "text/plain": [
       "2"
      ]
     },
     "execution_count": 9,
     "metadata": {},
     "output_type": "execute_result"
    }
   ],
   "source": [
    "l.size()"
   ]
  },
  {
   "cell_type": "code",
   "execution_count": null,
   "id": "63ac4521-7e55-473e-b1b8-f4f55007e85c",
   "metadata": {},
   "outputs": [],
   "source": [
    "instance methods\n",
    "class methods\n"
   ]
  },
  {
   "cell_type": "code",
   "execution_count": 48,
   "id": "ed3e53e0-fc6c-482a-a697-cf4b34bbef7e",
   "metadata": {},
   "outputs": [],
   "source": [
    "class car:\n",
    "    # class attribute\n",
    "    wheels=4\n",
    "\n",
    "    def __init__(self,make,model):\n",
    "        self.make=make        #instance attribute\n",
    "        self.model=model      #instance attribute\n",
    "\n",
    "    # class method\n",
    "    @classmethod\n",
    "    def set_wheels(cls,number):\n",
    "        cls.wheels=number     # modify the class attribute\n",
    "\n",
    "    def car_info(self):    \n",
    "        return f\"{self.make} {self.model} has {car.wheels}\"\n",
    "        \n",
    "        "
   ]
  },
  {
   "cell_type": "code",
   "execution_count": 49,
   "id": "bdcb4dcd-dc5b-42df-9f3f-f8bcef878eb8",
   "metadata": {},
   "outputs": [
    {
     "data": {
      "text/plain": [
       "<bound method car.set_wheels of <class '__main__.car'>>"
      ]
     },
     "execution_count": 49,
     "metadata": {},
     "output_type": "execute_result"
    }
   ],
   "source": [
    "obj=car('bmw','benz')\n",
    "obj.set_wheels"
   ]
  },
  {
   "cell_type": "code",
   "execution_count": 50,
   "id": "8a974965-38eb-4c4e-9f70-895e6e4e00e9",
   "metadata": {},
   "outputs": [],
   "source": [
    "obj.set_wheels(3)\n"
   ]
  },
  {
   "cell_type": "code",
   "execution_count": 37,
   "id": "433fa42e-656e-48dd-ad17-65f29dfa236d",
   "metadata": {},
   "outputs": [
    {
     "data": {
      "text/plain": [
       "'bmw benz has 3'"
      ]
     },
     "execution_count": 37,
     "metadata": {},
     "output_type": "execute_result"
    }
   ],
   "source": [
    "obj.car_info()"
   ]
  },
  {
   "cell_type": "markdown",
   "id": "9e8700eb-cc9c-4502-9157-13cdd161519b",
   "metadata": {},
   "source": [
    "# exception handling"
   ]
  },
  {
   "cell_type": "code",
   "execution_count": 21,
   "id": "1740bcc3-680b-4761-91aa-0050f8d6b704",
   "metadata": {},
   "outputs": [
    {
     "name": "stdin",
     "output_type": "stream",
     "text": [
      "enter a number:  6\n"
     ]
    },
    {
     "name": "stdout",
     "output_type": "stream",
     "text": [
      "result is 1.6666666666666667\n"
     ]
    }
   ],
   "source": [
    "# try except\n",
    "\n",
    "try:\n",
    "    x=int(input(\"enter a number: \"))\n",
    "    result=10/x\n",
    "    print(\"result is\",result)\n",
    "\n",
    "except ValueError:\n",
    "    print(\"that was not a number.\")\n",
    "\n",
    "except ZeroDivisionError:\n",
    "    print('you cannot divide by zero')"
   ]
  },
  {
   "cell_type": "code",
   "execution_count": 22,
   "id": "16f158e1-0e67-4067-b9d2-f9b737c16300",
   "metadata": {},
   "outputs": [
    {
     "name": "stdout",
     "output_type": "stream",
     "text": [
      "result is: 5.0\n",
      "this block runs no matter what.\n"
     ]
    }
   ],
   "source": [
    "# try excccept else finally\n",
    "\n",
    "try:\n",
    "    x=10\n",
    "    y=2\n",
    "    result=x/y\n",
    "\n",
    "except ZeroDivisionError:\n",
    "    print('cannot divide by zero')\n",
    "\n",
    "else:\n",
    "    print('result is:',result)\n",
    "\n",
    "finally:\n",
    "    print('this block runs no matter what.')"
   ]
  },
  {
   "cell_type": "code",
   "execution_count": 41,
   "id": "b98edc65-cb47-4d7d-87c8-3acd0041c6cd",
   "metadata": {},
   "outputs": [
    {
     "name": "stdout",
     "output_type": "stream",
     "text": [
      "custom exception caught: age cannot be negative!\n"
     ]
    }
   ],
   "source": [
    "# custom exception for -ve age\n",
    "\n",
    "class negativeAgeError(Exception):\n",
    "    \"\"\"raised when the age is negative\"\"\"\n",
    "    pass\n",
    "\n",
    "def validate_age(age):\n",
    "    if age<0:\n",
    "        raise negativeAgeError(\"age cannot be negative!\")\n",
    "    else:\n",
    "        print(\"valid age:\",age)\n",
    "\n",
    "# test\n",
    "try:\n",
    "    validate_age(-5)\n",
    "except negativeAgeError as e:\n",
    "    print('custom exception caught:',e)\n",
    "\n"
   ]
  },
  {
   "cell_type": "code",
   "execution_count": 53,
   "id": "bb41bd7d-b81a-4488-ae56-826c9fe0f523",
   "metadata": {},
   "outputs": [
    {
     "name": "stdin",
     "output_type": "stream",
     "text": [
      "enter amount to withdraw: 33\n"
     ]
    },
    {
     "name": "stdout",
     "output_type": "stream",
     "text": [
      "withdrawal successful! remaining balance: rs967\n"
     ]
    }
   ],
   "source": [
    "class insufficientFundsError(Exception):\n",
    "    pass  # just using the default behavior of exception\n",
    "\n",
    "#simulate bank withdrawal\n",
    "balance=1000\n",
    "\n",
    "try:\n",
    "    amount=int(input(\"enter amount to withdraw:\"))\n",
    "    if amount>balance:\n",
    "        raise insufficientFundsError(\"you dont hv enough money\")\n",
    "    balance -=amount\n",
    "    print(f'withdrawal successful! remaining balance: rs{balance}')\n",
    "\n",
    "except insufficientFundsError as e:\n",
    "    print(\"custom error:\",e)\n",
    "\n",
    "except ValueError:\n",
    "    print('please enter a valid number')"
   ]
  },
  {
   "cell_type": "code",
   "execution_count": null,
   "id": "1242829a-090f-4956-b507-6b839719a64d",
   "metadata": {},
   "outputs": [],
   "source": []
  }
 ],
 "metadata": {
  "kernelspec": {
   "display_name": "Python [conda env:base] *",
   "language": "python",
   "name": "conda-base-py"
  },
  "language_info": {
   "codemirror_mode": {
    "name": "ipython",
    "version": 3
   },
   "file_extension": ".py",
   "mimetype": "text/x-python",
   "name": "python",
   "nbconvert_exporter": "python",
   "pygments_lexer": "ipython3",
   "version": "3.12.7"
  }
 },
 "nbformat": 4,
 "nbformat_minor": 5
}
